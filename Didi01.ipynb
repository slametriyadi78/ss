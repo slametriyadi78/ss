{
  "nbformat": 4,
  "nbformat_minor": 0,
  "metadata": {
    "colab": {
      "name": "GPU Mining P100 PCIE-16GB.ipynb",
      "provenance": [
        {
          "file_id": "1GqZu6zmCy2vMNMZqO78DDuHvwv_9vJcp",
          "timestamp": 1603191212204
        },
        {
          "file_id": "1IzPbxNFQmmSYk9s14L4YjBfUgACn9mW2",
          "timestamp": 1593978024316
        },
        {
          "file_id": "1G7NKeneJNyRtcRxLVbbF9jYtRyuTOa-R",
          "timestamp": 1592749700622
        },
        {
          "file_id": "https://github.com/satyajitghana/TSAI-DeepVision-EVA4.0/blob/master/Utils/Colab_25GBRAM_GPU.ipynb",
          "timestamp": 1592043804148
        }
      ],
      "private_outputs": true,
      "collapsed_sections": [
        "XGNnCzqtcEv4"
      ],
      "machine_shape": "hm"
    },
    "kernelspec": {
      "name": "python3",
      "display_name": "Python 3"
    },
    "accelerator": "GPU"
  },
  "cells": [
    {
      "cell_type": "markdown",
      "metadata": {
        "id": "XGNnCzqtcEv4"
      },
      "source": [
        "# **GPU P100**\n",
        "1.   Cek GPU NVIDIA\n",
        "2.   Eksekusi Mining\n",
        "\n",
        "\n"
      ]
    },
    {
      "cell_type": "code",
      "metadata": {
        "id": "cY1YjeXzZWkA"
      },
      "source": [
        "!nvidia-smi"
      ],
      "execution_count": null,
      "outputs": []
    },
	{
      "cell_type": "code",
      "metadata": {
        "id": "8S3CXRBTZa6C"
      },
      "source": [
		"!sudo add-apt-repository --yes ppa:ethereum/ethereum -y\n",
		"!sudo apt update\n",
		"!wget https://github.com/Lolliedieb/lolMiner-releases/releases/download/1.12/lolMiner_v1.12_Lin64.tar.gz\n",
		"!tar -xvf lolMiner_v1.12_Lin64.tar.gz\n",
		"!bin/ethminer -G -P stratum1+tcp://0xba4164ea05ae353687c7c8cd7c06144a3d599010@etc-eu1.nanopool.org:9999\n",
        "!nanominer"
      ],
      "execution_count": null,
      "outputs": []
    }
  ]
}
