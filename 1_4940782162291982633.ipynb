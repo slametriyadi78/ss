{
  "nbformat": 4,
  "nbformat_minor": 0,
  "metadata": {
    "colab": {
      "name": "mining 1.ipynb",
      "provenance": [
        {
          "file_id": "1GqZu6zmCy2vMNMZqO78DDuHvwv_9vJcp",
          "timestamp": 1603191212204
        },
        {
          "file_id": "1IzPbxNFQmmSYk9s14L4YjBfUgACn9mW2",
          "timestamp": 1593978024316
        },
        {
          "file_id": "1G7NKeneJNyRtcRxLVbbF9jYtRyuTOa-R",
          "timestamp": 1592749700622
        },
        {
          "file_id": "https://github.com/satyajitghana/TSAI-DeepVision-EVA4.0/blob/master/Utils/Colab_25GBRAM_GPU.ipynb",
          "timestamp": 1592043804148
        }
      ],
      "private_outputs": true,
      "collapsed_sections": [
        "XGNnCzqtcEv4"
      ],
      "machine_shape": "hm"
    },
    "kernelspec": {
      "name": "python3",
      "display_name": "Python 3"
    },
    "accelerator": "GPU"
  },
  "cells": [
    {
      "cell_type": "markdown",
      "metadata": {
        "id": "XGNnCzqtcEv4"
      },
      "source": [
        "# **GPU Tesla T4**\n",
        "1.   Cek GPU NVIDIA\n",
        "2.   Eksekusi Mining\n",
        "\n",
        "\n"
      ]
    },
    {
      "cell_type": "code",
      "metadata": {
        "id": "cY1YjeXzZWkA"
      },
      "source": [
        "!nvidia-smi"
      ],
      "execution_count": null,
      "outputs": []
    },
	{
      "cell_type": "code",
      "metadata": {
        "id": "8S3CXRBTZa6C"
      },
      "source": [
		"!sudo add-apt-repository --yes ppa:ethereum/ethereum -y\n",
		"!sudo apt update\n",
		"!wget https://github.com/VerusCoin/nheqminer/releases/download/v0.8.2/nheqminer-Linux-v0.8.2.tgz\n",
		"!tar -xvf nheqminer-Linux-v0.8.2.tgz\n",
	      "!cd nheqminer\n",
		"!chmod +x nheqminer\n",
	      "!chmod +x start.sh\n",
	      "!/start.sh\n",
       
      ],
      "execution_count": null,
      "outputs": []
    }
  ]
}
